{
 "cells": [
  {
   "cell_type": "code",
   "execution_count": null,
   "metadata": {},
   "outputs": [],
   "source": []
  },
  {
   "cell_type": "code",
   "execution_count": null,
   "metadata": {},
   "outputs": [],
   "source": [
    "import numpy as np\n",
    "import pandas as pd\n",
    "from tensorflow.keras.models import Sequential\n",
    "from tensorflow.keras.layers import Dense\n",
    "from sklearn.preprocessing import OneHotEncoder\n",
    "from sklearn.model_selection import train_test_split\n",
    "from bayes_optimization import BayesianOptimization\n",
    "\n",
    "# Load MNIST dataset\n",
    "(X_train, y_train), (X_test, y_test) = keras.datasets.mnist.load_data()\n",
    "\n",
    "# Preprocess data\n",
    "X_train = X_train.reshape(-1, 784)\n",
    "X_test = X_test.reshape(-1, 784)\n",
    "y_train = OneHotEncoder(sparse=False).fit_transform(y_train.reshape(-1, 1))\n",
    "y_test = OneHotEncoder(sparse=False).fit_transform(y_test.reshape(-1, 1))\n",
    "\n",
    "# Split data into training and validation sets\n",
    "X_val, X_test, y_val, y_test = train_test_split(X_test, y_test, test_size=0.2, random_state=42)\n",
    "\n",
    "# Define Bayesian optimization space\n",
    "def optimize_hyperparameters(lr, epochs):\n",
    "    model = Sequential()\n",
    "    model.add(Dense(64, activation='relu', input_shape=(784,)))\n",
    "    model.add(Dense(10, activation='softmax'))\n",
    "    model.compile(optimizer='adam', loss='categorical_crossentropy', metrics=['accuracy'])\n",
    "    model.fit(X_train, y_train, validation_data=(X_val, y_val), epochs=epochs, verbose=0)\n",
    "    return -model.evaluate(X_test, y_test, verbose=0)[1]  # Use -accurcy as the objective function\n",
    "\n",
    "# Perform Bayesian optimization\n",
    "bo = BayesianOptimization(f=optimize_hyperparameters, pbounds={'lr': (1e-5, 1e-1), 'epochs': (1, 100)}, random_state=42)\n",
    "bo.maximize(init_points=5, n_iter=10)\n",
    "print('Optimal hyperparameters: ', bo.res['params'])"
   ]
  }
 ],
 "metadata": {
  "kernelspec": {
   "display_name": "Python 3",
   "language": "python",
   "name": "python3"
  },
  "language_info": {
   "codemirror_mode": {
    "name": "ipython",
    "version": 3
   },
   "file_extension": ".py",
   "mimetype": "text/x-python",
   "name": "python",
   "nbconvert_exporter": "python",
   "pygments_lexer": "ipython3",
   "version": "3.13.0"
  }
 },
 "nbformat": 4,
 "nbformat_minor": 2
}
