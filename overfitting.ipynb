{
 "cells": [
  {
   "cell_type": "code",
   "execution_count": null,
   "metadata": {},
   "outputs": [],
   "source": [
    "import numpy as np\n",
    "import matplotlib.pyplot as plt\n",
    "from sklearn.neural_network import MLPRegressor\n",
    "from sklearn.preprocessing import StandardScaler\n",
    "\n",
    "# Generate some random data\n",
    "np.random.seed(0)\n",
    "X = np.random.rand(100, 1) * 1000  # 100 samples\n",
    "y = 1000 - 2 * X + np.random.randn(100) / 10  # 100 target values\n",
    "\n",
    "# Ensure shapes are correct before scaling\n",
    "print(f\"Shape of X: {X.shape}\")  # Should be (100, 1)\n",
    "print(f\"Shape of y: {y.shape}\")  # Should be (100,)\n",
    "\n",
    "# Scale the data\n",
    "scaler_X = StandardScaler()\n",
    "scaler_y = StandardScaler()\n",
    "\n",
    "X_scaled = scaler_X.fit_transform(X)\n",
    "\n",
    "# Fixing the shape issue for y scaling\n",
    "y_scaled = scaler_y.fit_transform(y.reshape(-1, 1)).ravel()  # Reshape y to (100, 1) and flatten to 1D array\n",
    "\n",
    "# Ensure shapes after scaling\n",
    "print(f\"Shape of X_scaled: {X_scaled.shape}\")  # Should be (100, 1)\n",
    "print(f\"Shape of y_scaled: {y_scaled.shape}\")  # Should be (100,)\n",
    "\n",
    "# Train the model\n",
    "model = MLPRegressor(hidden_layer_sizes=(1000,), max_iter=10000, random_state=0)\n",
    "model.fit(X_scaled, y_scaled)\n",
    "\n",
    "# Predict on new data\n",
    "X_test = np.array([[500]])  # Single test point\n",
    "X_test_scaled = scaler_X.transform(X_test)\n",
    "\n",
    "# Make prediction\n",
    "y_pred_scaled = model.predict(X_test_scaled)  # Already a 1D array\n",
    "y_pred = scaler_y.inverse_transform(y_pred_scaled.reshape(-1, 1))[0, 0]  # Convert back to original scale\n",
    "print(\"Predicted price:\", y_pred)\n"
   ]
  }
 ],
 "metadata": {
  "kernelspec": {
   "display_name": "Python 3",
   "language": "python",
   "name": "python3"
  },
  "language_info": {
   "codemirror_mode": {
    "name": "ipython",
    "version": 3
   },
   "file_extension": ".py",
   "mimetype": "text/x-python",
   "name": "python",
   "nbconvert_exporter": "python",
   "pygments_lexer": "ipython3",
   "version": "3.13.0"
  }
 },
 "nbformat": 4,
 "nbformat_minor": 2
}
