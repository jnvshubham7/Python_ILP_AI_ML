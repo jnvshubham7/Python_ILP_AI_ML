{
 "cells": [
  {
   "cell_type": "code",
   "execution_count": null,
   "metadata": {},
   "outputs": [
    {
     "ename": "TypeError",
     "evalue": "'numpy.float64' object is not iterable",
     "output_type": "error",
     "traceback": [
      "\u001b[1;31m---------------------------------------------------------------------------\u001b[0m",
      "\u001b[1;31mTypeError\u001b[0m                                 Traceback (most recent call last)",
      "Cell \u001b[1;32mIn[2], line 31\u001b[0m\n\u001b[0;32m     29\u001b[0m     y_pred\u001b[38;5;241m.\u001b[39mappend(model\u001b[38;5;241m.\u001b[39mpredict(X_test))\n\u001b[0;32m     30\u001b[0m y_pred \u001b[38;5;241m=\u001b[39m [pred \u001b[38;5;28;01mfor\u001b[39;00m sublist \u001b[38;5;129;01min\u001b[39;00m y_pred \u001b[38;5;28;01mfor\u001b[39;00m pred \u001b[38;5;129;01min\u001b[39;00m sublist]\n\u001b[1;32m---> 31\u001b[0m y_pred \u001b[38;5;241m=\u001b[39m [\u001b[38;5;28msum\u001b[39m(y) \u001b[38;5;241m/\u001b[39m \u001b[38;5;28mlen\u001b[39m(y) \u001b[38;5;28;01mfor\u001b[39;00m y \u001b[38;5;129;01min\u001b[39;00m \u001b[38;5;28;43mzip\u001b[39;49m\u001b[43m(\u001b[49m\u001b[38;5;241;43m*\u001b[39;49m\u001b[43my_pred\u001b[49m\u001b[43m)\u001b[49m]\n\u001b[0;32m     33\u001b[0m \u001b[38;5;66;03m# Evaluate the performance of the bagging model\u001b[39;00m\n\u001b[0;32m     34\u001b[0m \u001b[38;5;28;01mfrom\u001b[39;00m \u001b[38;5;21;01msklearn\u001b[39;00m\u001b[38;5;21;01m.\u001b[39;00m\u001b[38;5;21;01mmetrics\u001b[39;00m \u001b[38;5;28;01mimport\u001b[39;00m mean_squared_error\n",
      "\u001b[1;31mTypeError\u001b[0m: 'numpy.float64' object is not iterable"
     ]
    }
   ],
   "source": [
    "import pandas as pd\n",
    "from sklearn.tree import DecisionTreeRegressor\n",
    "from sklearn.ensemble import BaggingRegressor\n",
    "from sklearn.model_selection import train_test_split\n",
    "\n",
    "# Load the California Housing dataset\n",
    "from sklearn.datasets import fetch_california_housing\n",
    "housing = fetch_california_housing()\n",
    "df = pd.DataFrame(housing.data, columns=housing.feature_names)\n",
    "df['PRICE'] = housing.target\n",
    "\n",
    "# Split the data into training and testing sets\n",
    "X_train, X_test, y_train, y_test = train_test_split(df.drop('PRICE', axis=1), df['PRICE'], test_size=0.2, random_state=0)\n",
    "\n",
    "# Train multiple decision trees using bagging\n",
    "models = []\n",
    "for i in range(10):\n",
    "    dt = DecisionTreeRegressor(max_depth=3, random_state=i)\n",
    "    dt.fit(X_train, y_train)\n",
    "    models.append(dt)\n",
    "\n",
    "# Train a single model using bagging\n",
    "bagging = BaggingRegressor(n_estimators=10, max_samples=0.5, random_state=0)\n",
    "bagging.fit(X_train, y_train)\n",
    "\n",
    "# Make predictions using each model and combine them\n",
    "y_pred = []\n",
    "for model in models:\n",
    "    y_pred.append(model.predict(X_test))\n",
    "y_pred = [sum(y) / len(y) for y in zip(*y_pred)]\n",
    "\n",
    "# Evaluate the performance of the bagging model\n",
    "from sklearn.metrics import mean_squared_error\n",
    "mse = mean_squared_error(y_test, y_pred)\n",
    "print(\"MSE:\", mse)\n"
   ]
  }
 ],
 "metadata": {
  "kernelspec": {
   "display_name": "Python 3",
   "language": "python",
   "name": "python3"
  },
  "language_info": {
   "codemirror_mode": {
    "name": "ipython",
    "version": 3
   },
   "file_extension": ".py",
   "mimetype": "text/x-python",
   "name": "python",
   "nbconvert_exporter": "python",
   "pygments_lexer": "ipython3",
   "version": "3.13.0"
  }
 },
 "nbformat": 4,
 "nbformat_minor": 2
}
